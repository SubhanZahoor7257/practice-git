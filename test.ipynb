{
 "cells": [
  {
   "cell_type": "code",
   "execution_count": null,
   "id": "31f6e307",
   "metadata": {},
   "outputs": [],
   "source": [
    "# decorator to calcuate time of function\n",
    "\n",
    "import time\n",
    "\n",
    "\n",
    "def timeit(func):\n",
    "    def wrapper(*args, **kwargs):\n",
    "        start_time = time.time()\n",
    "        result = func(*args, **kwargs)\n",
    "        end_time = time.time()\n",
    "        print(f\"Execution time: {end_time - start_time} seconds\")\n",
    "        return result\n",
    "\n",
    "    return wrapper\n",
    "\n",
    "\n",
    "@timeit\n",
    "def example_function(n):\n",
    "    \"\"\"Example function that sums numbers from 1 to n.\"\"\"\n",
    "    return sum(range(1, n + 1))"
   ]
  },
  {
   "cell_type": "code",
   "execution_count": null,
   "id": "4e2a17ee",
   "metadata": {},
   "outputs": [],
   "source": [
    "func = example_function\n",
    "\n",
    "func()"
   ]
  },
  {
   "cell_type": "code",
   "execution_count": null,
   "id": "f609ee52",
   "metadata": {},
   "outputs": [
    {
     "name": "stdout",
     "output_type": "stream",
     "text": [
      "Execution time: 1.3113021850585938e-05 seconds\n"
     ]
    },
    {
     "data": {
      "text/plain": [
       "55"
      ]
     },
     "execution_count": 2,
     "metadata": {},
     "output_type": "execute_result"
    }
   ],
   "source": [
    "import time\n",
    "\n",
    "\n",
    "def example_function(n):\n",
    "    start_time = time.time()\n",
    "    result = sum(range(1, n + 1))\n",
    "    end_time = time.time()\n",
    "    print(f\"Execution time: {end_time - start_time} seconds\")\n",
    "    return result\n",
    "\n",
    "\n",
    "example_function(10)"
   ]
  },
  {
   "cell_type": "code",
   "execution_count": null,
   "id": "ecc7bee6",
   "metadata": {},
   "outputs": [
    {
     "name": "stdout",
     "output_type": "stream",
     "text": [
      "Execution time: 1.1205673217773438e-05 seconds\n"
     ]
    },
    {
     "data": {
      "text/plain": [
       "55"
      ]
     },
     "execution_count": 3,
     "metadata": {},
     "output_type": "execute_result"
    }
   ],
   "source": [
    "x = example_function\n",
    "\n",
    "x(10)"
   ]
  },
  {
   "cell_type": "code",
   "execution_count": null,
   "id": "9cea53d4",
   "metadata": {},
   "outputs": [
    {
     "name": "stdout",
     "output_type": "stream",
     "text": [
      "x: 5, y: 5\n",
      "x: 5, y: 10\n"
     ]
    }
   ],
   "source": [
    "x = 5\n",
    "y = x\n",
    "\n",
    "print(f\"x: {x}, y: {y}\")\n",
    "\n",
    "y = 10\n",
    "print(f\"x: {x}, y: {y}\")"
   ]
  },
  {
   "cell_type": "code",
   "execution_count": null,
   "id": "3745906b",
   "metadata": {},
   "outputs": [
    {
     "name": "stdout",
     "output_type": "stream",
     "text": [
      "a: 1, b: 2, args: (3, 4, 5), subhan: 10, x: 30, y: 40, kwargs: {'extra1': 'extra1', 'extra2': 'extra2'}\n"
     ]
    }
   ],
   "source": [
    "# func(positional_arg, arbitrary_arg1, keyword_arg1=value1, keyword_arg2=value2, arbitrary_arg2=value2)\n",
    "\n",
    "\n",
    "def func(a, b, *args, subhan=10, x, y, **kwargs):\n",
    "    print(\n",
    "        f\"a: {a}, b: {b}, args: {args}, subhan: {subhan}, x: {x}, y: {y}, kwargs: {kwargs}\"\n",
    "    )\n",
    "\n",
    "\n",
    "func(1, 2, 3, 4, 5, x=30, y=40, extra1=\"extra1\", extra2=\"extra2\")"
   ]
  },
  {
   "cell_type": "code",
   "execution_count": null,
   "id": "f0a9b5a2",
   "metadata": {},
   "outputs": [
    {
     "ename": "TypeError",
     "evalue": "'int' object is not iterable",
     "output_type": "error",
     "traceback": [
      "\u001b[31m---------------------------------------------------------------------------\u001b[39m",
      "\u001b[31mTypeError\u001b[39m                                 Traceback (most recent call last)",
      "\u001b[36mCell\u001b[39m\u001b[36m \u001b[39m\u001b[32mIn[36]\u001b[39m\u001b[32m, line 10\u001b[39m\n\u001b[32m      4\u001b[39m         \u001b[38;5;28;01mreturn\u001b[39;00m i\n\u001b[32m      6\u001b[39m \u001b[38;5;66;03m# for i in range(1, 10):\u001b[39;00m\n\u001b[32m      7\u001b[39m \u001b[38;5;66;03m#     print(func())\u001b[39;00m\n\u001b[32m---> \u001b[39m\u001b[32m10\u001b[39m \u001b[38;5;28;43;01mfor\u001b[39;49;00m\u001b[43m \u001b[49m\u001b[43mi\u001b[49m\u001b[43m \u001b[49m\u001b[38;5;129;43;01min\u001b[39;49;00m\u001b[43m \u001b[49m\u001b[43mfunc\u001b[49m\u001b[43m(\u001b[49m\u001b[43m)\u001b[49m\u001b[43m:\u001b[49m\n\u001b[32m     11\u001b[39m \u001b[43m    \u001b[49m\u001b[38;5;28;43mprint\u001b[39;49m\u001b[43m(\u001b[49m\u001b[43mi\u001b[49m\u001b[43m)\u001b[49m\n",
      "\u001b[31mTypeError\u001b[39m: 'int' object is not iterable"
     ]
    }
   ],
   "source": [
    "# generator to yield 1000000 numbers\n",
    "def func():\n",
    "    for i in range(1, 10):\n",
    "        yield i\n",
    "\n",
    "\n",
    "# for i in range(1, 10):\n",
    "#     print(func())\n",
    "\n",
    "\n",
    "for i in func():\n",
    "    print(i)"
   ]
  },
  {
   "cell_type": "code",
   "execution_count": null,
   "id": "989d2ab4",
   "metadata": {},
   "outputs": [],
   "source": [
    "a = input(\"enter first number: \")\n",
    "b = input(\"enter second number: \")\n",
    "try:\n",
    "    print(f\"{a} / {b} = {int(a) / int(b)}\")\n",
    "except ZeroDivisionError:\n",
    "    print(\"Cannot divide by zero\")\n",
    "except ValueError:\n",
    "    print(\"Invalid input, please enter numbers only\")"
   ]
  },
  {
   "cell_type": "code",
   "execution_count": null,
   "id": "39cf1863",
   "metadata": {},
   "outputs": [
    {
     "name": "stdout",
     "output_type": "stream",
     "text": [
      "ExampleClass with name: Test\n"
     ]
    }
   ],
   "source": [
    "class ExampleClass:\n",
    "    def __init__(self, name):\n",
    "        self.name = name\n",
    "\n",
    "    def __str__(self) -> str:\n",
    "        return f\"ExampleClass with name: {self.name}\"\n",
    "\n",
    "\n",
    "obj = ExampleClass(\"Test\")\n",
    "print(obj)-"
   ]
  },
  {
   "cell_type": "code",
   "execution_count": null,
   "id": "ceff0b0d",
   "metadata": {},
   "outputs": [
    {
     "name": "stdout",
     "output_type": "stream",
     "text": [
      "4\n"
     ]
    }
   ],
   "source": [
    "def check_for_line():\n",
    "    word = \"programming\"\n",
    "    line_no = 1\n",
    "    with open(\"subhan.txt\", \"r\") as f:\n",
    "        data = True\n",
    "        while data:\n",
    "            data = f.readline()\n",
    "            if word in data:\n",
    "                return line_no\n",
    "            line_no += 1\n",
    "    return -1\n",
    "\n",
    "\n",
    "print(check_for_line())"
   ]
  },
  {
   "cell_type": "code",
   "execution_count": null,
   "id": "47d533e2",
   "metadata": {},
   "outputs": [
    {
     "name": "stdout",
     "output_type": "stream",
     "text": [
      "['1', '76', '98', '06', '76', '75', '47']\n",
      "4\n"
     ]
    }
   ],
   "source": [
    "count = 0\n",
    "with open(\"subhan.txt\", \"r\") as f:\n",
    "    data = f.read()\n",
    "    new_data = data.split(\";\")\n",
    "    print(new_data)\n",
    "    for val in new_data:\n",
    "        if int(val) % 2 == 0:\n",
    "            count += 1\n",
    "    print(count)"
   ]
  },
  {
   "cell_type": "code",
   "execution_count": null,
   "id": "37b763e0",
   "metadata": {},
   "outputs": [
    {
     "name": "stdout",
     "output_type": "stream",
     "text": [
      "email sent successfully\n"
     ]
    }
   ],
   "source": [
    "import smtplib\n",
    "from email.mime.text import MIMEText\n",
    "\n",
    "\n",
    "def sending_email(\n",
    "    sender_email, sender_password, receiver_email, subject, message_body\n",
    "):\n",
    "    try:\n",
    "        message = MIMEText(message_body)\n",
    "        message[\"Subject\"] = subject\n",
    "        message[\"From\"] = sender_email\n",
    "        message[\"To\"] = receiver_email\n",
    "\n",
    "        with smtplib.SMTP(\"smtp.gmail.com\", 587) as server:\n",
    "            server.starttls()\n",
    "            server.login(sender_email, sender_password)\n",
    "            server.send_message(message)\n",
    "            print(\"email sent successfully\")\n",
    "    except Exception as e:\n",
    "        print(f\"Error Sending Email:{e}\")\n",
    "\n",
    "\n",
    "sender_email = \"zeeshan.asim.dev@gmail.com\"\n",
    "sender_password = \"vnfv ycav gfvm wooh\"\n",
    "receiver_email = \"saadmakhdoom12@gmail.com\"\n",
    "subject = \"Offer Letter\"\n",
    "message_body = \"Hello Mr.saad . congratulations! You are Selected. Please visit campus tomorrow\"\n",
    "\n",
    "sending_email(\n",
    "    sender_email, sender_password, receiver_email, subject, message_body\n",
    ")\n",
    "\n"
   ]
  },
  {
   "cell_type": "code",
   "execution_count": null,
   "id": "54ec8602",
   "metadata": {},
   "outputs": [
    {
     "data": {
      "text/plain": [
       "{'a': 1, 'b': 2, 'c': 3, 'd': 4}"
      ]
     },
     "execution_count": 57,
     "metadata": {},
     "output_type": "execute_result"
    }
   ],
   "source": [
    "open(\"subhan.txt\", \"w\") as f:\n",
    "    f.write(\"1;76;98;06;76;75;47\")\n",
    "\n",
    "with open(\"subhan.txt\", \"r\") as f:\n",
    "    print(f.read())"
   ]
  },
  {
   "cell_type": "code",
   "execution_count": null,
   "id": "49edcf75",
   "metadata": {},
   "outputs": [
    {
     "ename": "FileNotFoundError",
     "evalue": "[Errno 2] No such file or directory: 'Home/Download/file-example_PDF_500_kB.pdf'",
     "output_type": "error",
     "traceback": [
      "\u001b[31m---------------------------------------------------------------------------\u001b[39m",
      "\u001b[31mFileNotFoundError\u001b[39m                         Traceback (most recent call last)",
      "\u001b[36mCell\u001b[39m\u001b[36m \u001b[39m\u001b[32mIn[62]\u001b[39m\u001b[32m, line 20\u001b[39m\n\u001b[32m     15\u001b[39m input_pdfs = [\n\u001b[32m     16\u001b[39m     \u001b[33m\"\u001b[39m\u001b[33mHome/Download/file-example_PDF_500_kB.pdf\u001b[39m\u001b[33m\"\u001b[39m,\n\u001b[32m     17\u001b[39m     \u001b[33m\"\u001b[39m\u001b[33mHome/Download/file-sample_150kB.pdf\u001b[39m\u001b[33m\"\u001b[39m,\n\u001b[32m     18\u001b[39m ]\n\u001b[32m     19\u001b[39m output_pdfs = \u001b[33m\"\u001b[39m\u001b[33msubhan.pdf\u001b[39m\u001b[33m\"\u001b[39m\n\u001b[32m---> \u001b[39m\u001b[32m20\u001b[39m \u001b[43mmerge_pdfs\u001b[49m\u001b[43m(\u001b[49m\u001b[43minput_pdfs\u001b[49m\u001b[43m,\u001b[49m\u001b[43m \u001b[49m\u001b[43moutput_pdfs\u001b[49m\u001b[43m)\u001b[49m\n",
      "\u001b[36mCell\u001b[39m\u001b[36m \u001b[39m\u001b[32mIn[62]\u001b[39m\u001b[32m, line 7\u001b[39m, in \u001b[36mmerge_pdfs\u001b[39m\u001b[34m(pdf_files, output_filename)\u001b[39m\n\u001b[32m      5\u001b[39m merger = PdfMerger()\n\u001b[32m      6\u001b[39m \u001b[38;5;28;01mfor\u001b[39;00m pdf_file \u001b[38;5;129;01min\u001b[39;00m pdf_files:\n\u001b[32m----> \u001b[39m\u001b[32m7\u001b[39m     \u001b[43mmerger\u001b[49m\u001b[43m.\u001b[49m\u001b[43mappend\u001b[49m\u001b[43m(\u001b[49m\u001b[43mpdf_file\u001b[49m\u001b[43m)\u001b[49m\n\u001b[32m      8\u001b[39m \u001b[38;5;28;01mwith\u001b[39;00m \u001b[38;5;28mopen\u001b[39m(output_filename, \u001b[33m\"\u001b[39m\u001b[33mwb\u001b[39m\u001b[33m\"\u001b[39m) \u001b[38;5;28;01mas\u001b[39;00m f:\n\u001b[32m      9\u001b[39m     merger.write(f)\n",
      "\u001b[36mFile \u001b[39m\u001b[32m~/.cache/pypoetry/virtualenvs/subhan-pSG_74yR-py3.13/lib/python3.13/site-packages/PyPDF2/_utils.py:417\u001b[39m, in \u001b[36mdeprecation_bookmark.<locals>.decoration.<locals>.wrapper\u001b[39m\u001b[34m(*args, **kwargs)\u001b[39m\n\u001b[32m    414\u001b[39m \u001b[38;5;129m@functools\u001b[39m.wraps(func)\n\u001b[32m    415\u001b[39m \u001b[38;5;28;01mdef\u001b[39;00m\u001b[38;5;250m \u001b[39m\u001b[34mwrapper\u001b[39m(*args, **kwargs):  \u001b[38;5;66;03m# type: ignore\u001b[39;00m\n\u001b[32m    416\u001b[39m     rename_kwargs(func.\u001b[34m__name__\u001b[39m, kwargs, aliases, fail=\u001b[38;5;28;01mTrue\u001b[39;00m)\n\u001b[32m--> \u001b[39m\u001b[32m417\u001b[39m     \u001b[38;5;28;01mreturn\u001b[39;00m \u001b[43mfunc\u001b[49m\u001b[43m(\u001b[49m\u001b[43m*\u001b[49m\u001b[43margs\u001b[49m\u001b[43m,\u001b[49m\u001b[43m \u001b[49m\u001b[43m*\u001b[49m\u001b[43m*\u001b[49m\u001b[43mkwargs\u001b[49m\u001b[43m)\u001b[49m\n",
      "\u001b[36mFile \u001b[39m\u001b[32m~/.cache/pypoetry/virtualenvs/subhan-pSG_74yR-py3.13/lib/python3.13/site-packages/PyPDF2/_merger.py:319\u001b[39m, in \u001b[36mPdfMerger.append\u001b[39m\u001b[34m(self, fileobj, outline_item, pages, import_outline)\u001b[39m\n\u001b[32m    286\u001b[39m \u001b[38;5;129m@deprecation_bookmark\u001b[39m(bookmark=\u001b[33m\"\u001b[39m\u001b[33moutline_item\u001b[39m\u001b[33m\"\u001b[39m, import_bookmarks=\u001b[33m\"\u001b[39m\u001b[33mimport_outline\u001b[39m\u001b[33m\"\u001b[39m)\n\u001b[32m    287\u001b[39m \u001b[38;5;28;01mdef\u001b[39;00m\u001b[38;5;250m \u001b[39m\u001b[34mappend\u001b[39m(\n\u001b[32m    288\u001b[39m     \u001b[38;5;28mself\u001b[39m,\n\u001b[32m   (...)\u001b[39m\u001b[32m    294\u001b[39m     import_outline: \u001b[38;5;28mbool\u001b[39m = \u001b[38;5;28;01mTrue\u001b[39;00m,\n\u001b[32m    295\u001b[39m ) -> \u001b[38;5;28;01mNone\u001b[39;00m:\n\u001b[32m    296\u001b[39m \u001b[38;5;250m    \u001b[39m\u001b[33;03m\"\"\"\u001b[39;00m\n\u001b[32m    297\u001b[39m \u001b[33;03m    Identical to the :meth:`merge()<merge>` method, but assumes you want to\u001b[39;00m\n\u001b[32m    298\u001b[39m \u001b[33;03m    concatenate all pages onto the end of the file instead of specifying a\u001b[39;00m\n\u001b[32m   (...)\u001b[39m\u001b[32m    317\u001b[39m \u001b[33;03m        'bookmarks') from being imported by specifying this as ``False``.\u001b[39;00m\n\u001b[32m    318\u001b[39m \u001b[33;03m    \"\"\"\u001b[39;00m\n\u001b[32m--> \u001b[39m\u001b[32m319\u001b[39m     \u001b[38;5;28;43mself\u001b[39;49m\u001b[43m.\u001b[49m\u001b[43mmerge\u001b[49m\u001b[43m(\u001b[49m\u001b[38;5;28;43mlen\u001b[39;49m\u001b[43m(\u001b[49m\u001b[38;5;28;43mself\u001b[39;49m\u001b[43m.\u001b[49m\u001b[43mpages\u001b[49m\u001b[43m)\u001b[49m\u001b[43m,\u001b[49m\u001b[43m \u001b[49m\u001b[43mfileobj\u001b[49m\u001b[43m,\u001b[49m\u001b[43m \u001b[49m\u001b[43moutline_item\u001b[49m\u001b[43m,\u001b[49m\u001b[43m \u001b[49m\u001b[43mpages\u001b[49m\u001b[43m,\u001b[49m\u001b[43m \u001b[49m\u001b[43mimport_outline\u001b[49m\u001b[43m)\u001b[49m\n",
      "\u001b[36mFile \u001b[39m\u001b[32m~/.cache/pypoetry/virtualenvs/subhan-pSG_74yR-py3.13/lib/python3.13/site-packages/PyPDF2/_utils.py:417\u001b[39m, in \u001b[36mdeprecation_bookmark.<locals>.decoration.<locals>.wrapper\u001b[39m\u001b[34m(*args, **kwargs)\u001b[39m\n\u001b[32m    414\u001b[39m \u001b[38;5;129m@functools\u001b[39m.wraps(func)\n\u001b[32m    415\u001b[39m \u001b[38;5;28;01mdef\u001b[39;00m\u001b[38;5;250m \u001b[39m\u001b[34mwrapper\u001b[39m(*args, **kwargs):  \u001b[38;5;66;03m# type: ignore\u001b[39;00m\n\u001b[32m    416\u001b[39m     rename_kwargs(func.\u001b[34m__name__\u001b[39m, kwargs, aliases, fail=\u001b[38;5;28;01mTrue\u001b[39;00m)\n\u001b[32m--> \u001b[39m\u001b[32m417\u001b[39m     \u001b[38;5;28;01mreturn\u001b[39;00m \u001b[43mfunc\u001b[49m\u001b[43m(\u001b[49m\u001b[43m*\u001b[49m\u001b[43margs\u001b[49m\u001b[43m,\u001b[49m\u001b[43m \u001b[49m\u001b[43m*\u001b[49m\u001b[43m*\u001b[49m\u001b[43mkwargs\u001b[49m\u001b[43m)\u001b[49m\n",
      "\u001b[36mFile \u001b[39m\u001b[32m~/.cache/pypoetry/virtualenvs/subhan-pSG_74yR-py3.13/lib/python3.13/site-packages/PyPDF2/_merger.py:194\u001b[39m, in \u001b[36mPdfMerger.merge\u001b[39m\u001b[34m(self, page_number, fileobj, outline_item, pages, import_outline, position)\u001b[39m\n\u001b[32m    189\u001b[39m \u001b[38;5;28;01mif\u001b[39;00m fileobj \u001b[38;5;129;01mis\u001b[39;00m \u001b[38;5;28;01mNone\u001b[39;00m:  \u001b[38;5;66;03m# deprecated\u001b[39;00m\n\u001b[32m    190\u001b[39m     \u001b[38;5;66;03m# The argument is only Optional due to the deprecated position\u001b[39;00m\n\u001b[32m    191\u001b[39m     \u001b[38;5;66;03m# argument\u001b[39;00m\n\u001b[32m    192\u001b[39m     \u001b[38;5;28;01mraise\u001b[39;00m \u001b[38;5;167;01mValueError\u001b[39;00m(\u001b[33m\"\u001b[39m\u001b[33mfileobj may not be None\u001b[39m\u001b[33m\"\u001b[39m)\n\u001b[32m--> \u001b[39m\u001b[32m194\u001b[39m stream, encryption_obj = \u001b[38;5;28;43mself\u001b[39;49m\u001b[43m.\u001b[49m\u001b[43m_create_stream\u001b[49m\u001b[43m(\u001b[49m\u001b[43mfileobj\u001b[49m\u001b[43m)\u001b[49m\n\u001b[32m    196\u001b[39m \u001b[38;5;66;03m# Create a new PdfReader instance using the stream\u001b[39;00m\n\u001b[32m    197\u001b[39m \u001b[38;5;66;03m# (either file or BytesIO or StringIO) created above\u001b[39;00m\n\u001b[32m    198\u001b[39m reader = PdfReader(stream, strict=\u001b[38;5;28mself\u001b[39m.strict)  \u001b[38;5;66;03m# type: ignore[arg-type]\u001b[39;00m\n",
      "\u001b[36mFile \u001b[39m\u001b[32m~/.cache/pypoetry/virtualenvs/subhan-pSG_74yR-py3.13/lib/python3.13/site-packages/PyPDF2/_merger.py:263\u001b[39m, in \u001b[36mPdfMerger._create_stream\u001b[39m\u001b[34m(self, fileobj)\u001b[39m\n\u001b[32m    261\u001b[39m stream: IOBase\n\u001b[32m    262\u001b[39m \u001b[38;5;28;01mif\u001b[39;00m \u001b[38;5;28misinstance\u001b[39m(fileobj, (\u001b[38;5;28mstr\u001b[39m, Path)):\n\u001b[32m--> \u001b[39m\u001b[32m263\u001b[39m     stream = \u001b[43mFileIO\u001b[49m\u001b[43m(\u001b[49m\u001b[43mfileobj\u001b[49m\u001b[43m,\u001b[49m\u001b[43m \u001b[49m\u001b[33;43m\"\u001b[39;49m\u001b[33;43mrb\u001b[39;49m\u001b[33;43m\"\u001b[39;49m\u001b[43m)\u001b[49m\n\u001b[32m    264\u001b[39m \u001b[38;5;28;01melif\u001b[39;00m \u001b[38;5;28misinstance\u001b[39m(fileobj, PdfReader):\n\u001b[32m    265\u001b[39m     \u001b[38;5;28;01mif\u001b[39;00m fileobj._encryption:\n",
      "\u001b[31mFileNotFoundError\u001b[39m: [Errno 2] No such file or directory: 'Home/Download/file-example_PDF_500_kB.pdf'"
     ]
    }
   ],
   "source": [
    "from PyPDF2 import PdfMerger\n",
    "\n",
    "\n",
    "def merge_pdfs(pdf_files, output_filename):\n",
    "    merger = PdfMerger()\n",
    "    for pdf_file in pdf_files:\n",
    "        merger.append(pdf_file)\n",
    "    with open(output_filename, \"wb\") as f:\n",
    "        merger.write(f)\n",
    "    merger.close()\n",
    "    print(f\"PDFS successfully merged into{output_filename}\")\n",
    "\n",
    "\n",
    "if __name__ == \"__main__\":\n",
    "    input_pdfs = [\n",
    "        \"Home/Download/file-example_PDF_500_kB.pdf\",\n",
    "        \"Home/Download/file-sample_150kB.pdf\",\n",
    "    ]\n",
    "    output_pdfs = \"subhan.pdf\"\n",
    "merge_pdfs(input_pdfs, output_pdfs)\n"
   ]
  },
  {
   "cell_type": "code",
   "execution_count": null,
   "id": "3fb8b07e",
   "metadata": {},
   "outputs": [
    {
     "name": "stdout",
     "output_type": "stream",
     "text": [
      "PDFs successfully merged into /home/zeeshan/Downloads/merged_document.pdf\n"
     ]
    }
   ],
   "source": [
    "from PyPDF2 import PdfMerger\n",
    "\n",
    "def merge_pdfs(pdf_files, output_filename):\n",
    "        \n",
    "    merger = PdfMerger()\n",
    "\n",
    "    for pdf_file in pdf_files:\n",
    "        merger.append(pdf_file)\n",
    "\n",
    "    with open(output_filename, 'wb') as f:\n",
    "        merger.write(f)\n",
    "\n",
    "        print(f\"PDFs successfully merged into {output_filename}\")\n",
    "\n",
    "\n",
    "input_pdfs = [\n",
    "    \"/home/zeeshan/Downloads/subhan1.pdf\",\n",
    "    \"/home/zeeshan/Downloads/subhan2.pdf\",\n",
    "]\n",
    "output_pdf = \"/home/zeeshan/Downloads/merged_document.pdf\"\n",
    "\n",
    "merge_pdfs(input_pdfs, output_pdf)\n"
   ]
  },
  {
   "cell_type": "code",
   "execution_count": 5,
   "id": "ddcb7a0b",
   "metadata": {},
   "outputs": [],
   "source": [
    "import sqlite3\n",
    "\n",
    "conn = sqlite3.connect(\"my_database.db\")\n",
    "cursor = conn.cursor()\n",
    "cursor.execute(\n",
    "    \"\"\"\n",
    "    SELECT * FROM users;\n",
    "    \"\"\"\n",
    ")\n",
    "result = cursor.fetchall()\n",
    "for row in result:\n",
    "    print(row)\n",
    "cursor.close()\n",
    "conn.close()\n"
   ]
  },
  {
   "cell_type": "code",
   "execution_count": null,
   "id": "e0daf427",
   "metadata": {},
   "outputs": [],
   "source": []
  },
  {
   "cell_type": "code",
   "execution_count": null,
   "id": "d558b220",
   "metadata": {},
   "outputs": [],
   "source": []
  }
 ],
 "metadata": {
  "kernelspec": {
   "display_name": "subhan-pSG_74yR-py3.13",
   "language": "python",
   "name": "python3"
  },
  "language_info": {
   "codemirror_mode": {
    "name": "ipython",
    "version": 3
   },
   "file_extension": ".py",
   "mimetype": "text/x-python",
   "name": "python",
   "nbconvert_exporter": "python",
   "pygments_lexer": "ipython3",
   "version": "3.13.5"
  }
 },
 "nbformat": 4,
 "nbformat_minor": 5
}
